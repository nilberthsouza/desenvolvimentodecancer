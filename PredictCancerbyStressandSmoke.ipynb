{
 "cells": [
  {
   "cell_type": "markdown",
   "metadata": {},
   "source": [
    "# Fumar e Estresse: Fatores de predição para cancer? \n",
    "\n",
    "### Vamos verificar se o hábito de fumar e o nivel de estresse preveem o desenvolvimento de câncer. \n",
    "\n",
    "todo: verificar se não há outliers ,plotar graficos\n",
    "\n",
    "todo: verificar se há multicolinearidade\n",
    "https://etav.github.io/python/vif_factor_python.html\n",
    "\n",
    "statsmodels.stats.outliers_influence.variance_inflation_factor\n"
   ]
  },
  {
   "cell_type": "code",
   "execution_count": null,
   "metadata": {},
   "outputs": [],
   "source": [
    "import pandas as pd \n",
    "import numpy as np\n",
    "import matplotlib.pyplot as plt\n",
    "import seaborn as sns\n",
    "\n",
    "from scipy import stats \n",
    "\n",
    "from sklearn.linear_model import LogisticRegression\n",
    "from sklearn.model_selection import train_test_split\n",
    "\n",
    "from statsmodels.stats.outliers_influence import variance_inflation_factor\n",
    "from statsmodels.tools.tools import add_constant\n"
   ]
  },
  {
   "cell_type": "markdown",
   "metadata": {},
   "source": [
    "Vamos começar importanto o dataset ```BancodeDados13.csv``` que foi adquirido nesse video do youtube e convertido de .sav para csv por esse script.\n",
    "Também vamos separar os dados entre as features que será um numpy array de 2 colunas e as labels que será um numpy array unidimensional."
   ]
  },
  {
   "cell_type": "code",
   "execution_count": null,
   "metadata": {},
   "outputs": [],
   "source": [
    "df = pd.read_csv('BancodeDados13.csv')\n"
   ]
  },
  {
   "cell_type": "markdown",
   "metadata": {},
   "source": [
    "Vamos analisar se a multicolinearidade atraves do VIF (variance inflation factor) , nesse caso queremos o valor para a variavel dependente cancer. tolerancia deve ser maior que 0.1 e vif deve ser menor que 10"
   ]
  },
  {
   "cell_type": "code",
   "execution_count": null,
   "metadata": {},
   "outputs": [],
   "source": [
    "\n",
    "X = add_constant(df)\n",
    "pd.Series([variance_inflation_factor(X.values, i) for i in range(X.shape[1])],index=X.columns)"
   ]
  },
  {
   "cell_type": "markdown",
   "metadata": {},
   "source": [
    "Primeiro , eu quero testar como ficar a acertividade do modelo quando usamos apenas a variavel independente \"Hab_Fumar\" para prever o cancer"
   ]
  },
  {
   "cell_type": "code",
   "execution_count": null,
   "metadata": {},
   "outputs": [],
   "source": [
    "\n",
    "X_train, X_test , y_train, y_test = train_test_split(df.drop(['Câncer'],axis=1),df['Câncer'],test_size=0.3, random_state=0)\n",
    "\n",
    "print(len(X_train),len(X_test),len(y_train),len(y_test))\n",
    "\n",
    "\n",
    "\n",
    "featureModelOne = X_train\n",
    "labelModelOne = y_train"
   ]
  },
  {
   "cell_type": "code",
   "execution_count": null,
   "metadata": {},
   "outputs": [],
   "source": [
    "model = LogisticRegression()\n",
    "model.fit(featureModelOne,labelModelOne)\n",
    "\n",
    "modelOnePredictions = model.predict(X_test)\n",
    "\n",
    "from sklearn.metrics import classification_report\n",
    "\n",
    "classification_report( y_test, modelOnePredictions)\n",
    "\n",
    "\n"
   ]
  },
  {
   "cell_type": "code",
   "execution_count": null,
   "metadata": {},
   "outputs": [],
   "source": [
    "from sklearn.metrics import confusion_matrix\n",
    "\n",
    "confusion_matrix(y_test,modelOnePredictions)"
   ]
  },
  {
   "cell_type": "code",
   "execution_count": null,
   "metadata": {},
   "outputs": [],
   "source": [
    "from sklearn.metrics import accuracy_score\n",
    "\n",
    "accuracy_score(y_test,modelOnePredictions)"
   ]
  },
  {
   "cell_type": "markdown",
   "metadata": {},
   "source": [
    "# Contra Prova\n",
    "\n",
    "### Vamos usar apenas Hab_Fumar para tentar entender se o nivel de stress melhora ou piora nosso modelo\n",
    "\n"
   ]
  },
  {
   "cell_type": "code",
   "execution_count": 8,
   "metadata": {},
   "outputs": [
    {
     "name": "stdout",
     "output_type": "stream",
     "text": [
      "1    0.8\n",
      "0    0.2\n",
      "Name: Result, dtype: float64\n"
     ]
    }
   ],
   "source": [
    "df[\"Hypothesis\"] = 0\n",
    "df.loc[df.Hab_Fumar == 1.0,\"Hypothesis\"] = 1\n",
    "\n",
    "df['Result'] = 0\n",
    "df.loc[df.Câncer == df[\"Hypothesis\"],\"Result\"] = 1\n",
    "\n",
    "print(df['Result'].value_counts(normalize=True))\n"
   ]
  },
  {
   "cell_type": "code",
   "execution_count": 10,
   "metadata": {},
   "outputs": [
    {
     "data": {
      "text/html": [
       "<div>\n",
       "<style scoped>\n",
       "    .dataframe tbody tr th:only-of-type {\n",
       "        vertical-align: middle;\n",
       "    }\n",
       "\n",
       "    .dataframe tbody tr th {\n",
       "        vertical-align: top;\n",
       "    }\n",
       "\n",
       "    .dataframe thead th {\n",
       "        text-align: right;\n",
       "    }\n",
       "</style>\n",
       "<table border=\"1\" class=\"dataframe\">\n",
       "  <thead>\n",
       "    <tr style=\"text-align: right;\">\n",
       "      <th></th>\n",
       "      <th>Estresse</th>\n",
       "      <th>Hab_Fumar</th>\n",
       "      <th>Câncer</th>\n",
       "      <th>Hypothesis</th>\n",
       "      <th>Result</th>\n",
       "    </tr>\n",
       "  </thead>\n",
       "  <tbody>\n",
       "    <tr>\n",
       "      <th>0</th>\n",
       "      <td>24.0</td>\n",
       "      <td>0.0</td>\n",
       "      <td>0.0</td>\n",
       "      <td>0</td>\n",
       "      <td>1</td>\n",
       "    </tr>\n",
       "    <tr>\n",
       "      <th>1</th>\n",
       "      <td>26.0</td>\n",
       "      <td>0.0</td>\n",
       "      <td>0.0</td>\n",
       "      <td>0</td>\n",
       "      <td>1</td>\n",
       "    </tr>\n",
       "    <tr>\n",
       "      <th>2</th>\n",
       "      <td>30.0</td>\n",
       "      <td>0.0</td>\n",
       "      <td>0.0</td>\n",
       "      <td>0</td>\n",
       "      <td>1</td>\n",
       "    </tr>\n",
       "    <tr>\n",
       "      <th>3</th>\n",
       "      <td>31.0</td>\n",
       "      <td>0.0</td>\n",
       "      <td>0.0</td>\n",
       "      <td>0</td>\n",
       "      <td>1</td>\n",
       "    </tr>\n",
       "    <tr>\n",
       "      <th>4</th>\n",
       "      <td>36.0</td>\n",
       "      <td>0.0</td>\n",
       "      <td>0.0</td>\n",
       "      <td>0</td>\n",
       "      <td>1</td>\n",
       "    </tr>\n",
       "  </tbody>\n",
       "</table>\n",
       "</div>"
      ],
      "text/plain": [
       "   Estresse  Hab_Fumar  Câncer  Hypothesis  Result\n",
       "0      24.0        0.0     0.0           0       1\n",
       "1      26.0        0.0     0.0           0       1\n",
       "2      30.0        0.0     0.0           0       1\n",
       "3      31.0        0.0     0.0           0       1\n",
       "4      36.0        0.0     0.0           0       1"
      ]
     },
     "execution_count": 10,
     "metadata": {},
     "output_type": "execute_result"
    }
   ],
   "source": [
    "df.head()"
   ]
  },
  {
   "cell_type": "code",
   "execution_count": 12,
   "metadata": {},
   "outputs": [
    {
     "name": "stderr",
     "output_type": "stream",
     "text": [
      "/home/hironu/anaconda3/lib/python3.7/site-packages/ipykernel_launcher.py:8: SettingWithCopyWarning: \n",
      "A value is trying to be set on a copy of a slice from a DataFrame\n",
      "\n",
      "See the caveats in the documentation: https://pandas.pydata.org/pandas-docs/stable/user_guide/indexing.html#returning-a-view-versus-a-copy\n",
      "  \n"
     ]
    }
   ],
   "source": [
    "df[\"Estresse\"].max()\n",
    "\n",
    "dfteste = df\n",
    "for i in range(len(df['Hab_Fumar'])):\n",
    "    if df['Hab_Fumar'][i] == 1:\n",
    "        dfteste['Hab_Fumar'][i] = 'Fumante'\n",
    "    else:\n",
    "        dfteste['Hab_Fumar'][i] = 'Não Fumante'"
   ]
  },
  {
   "cell_type": "code",
   "execution_count": 13,
   "metadata": {},
   "outputs": [
    {
     "data": {
      "text/html": [
       "<div>\n",
       "<style scoped>\n",
       "    .dataframe tbody tr th:only-of-type {\n",
       "        vertical-align: middle;\n",
       "    }\n",
       "\n",
       "    .dataframe tbody tr th {\n",
       "        vertical-align: top;\n",
       "    }\n",
       "\n",
       "    .dataframe thead th {\n",
       "        text-align: right;\n",
       "    }\n",
       "</style>\n",
       "<table border=\"1\" class=\"dataframe\">\n",
       "  <thead>\n",
       "    <tr style=\"text-align: right;\">\n",
       "      <th></th>\n",
       "      <th>Estresse</th>\n",
       "      <th>Hab_Fumar</th>\n",
       "      <th>Câncer</th>\n",
       "      <th>Hypothesis</th>\n",
       "      <th>Result</th>\n",
       "    </tr>\n",
       "  </thead>\n",
       "  <tbody>\n",
       "    <tr>\n",
       "      <th>0</th>\n",
       "      <td>24.0</td>\n",
       "      <td>Não Fumante</td>\n",
       "      <td>0.0</td>\n",
       "      <td>0</td>\n",
       "      <td>1</td>\n",
       "    </tr>\n",
       "    <tr>\n",
       "      <th>1</th>\n",
       "      <td>26.0</td>\n",
       "      <td>Não Fumante</td>\n",
       "      <td>0.0</td>\n",
       "      <td>0</td>\n",
       "      <td>1</td>\n",
       "    </tr>\n",
       "    <tr>\n",
       "      <th>2</th>\n",
       "      <td>30.0</td>\n",
       "      <td>Não Fumante</td>\n",
       "      <td>0.0</td>\n",
       "      <td>0</td>\n",
       "      <td>1</td>\n",
       "    </tr>\n",
       "    <tr>\n",
       "      <th>3</th>\n",
       "      <td>31.0</td>\n",
       "      <td>Não Fumante</td>\n",
       "      <td>0.0</td>\n",
       "      <td>0</td>\n",
       "      <td>1</td>\n",
       "    </tr>\n",
       "    <tr>\n",
       "      <th>4</th>\n",
       "      <td>36.0</td>\n",
       "      <td>Não Fumante</td>\n",
       "      <td>0.0</td>\n",
       "      <td>0</td>\n",
       "      <td>1</td>\n",
       "    </tr>\n",
       "  </tbody>\n",
       "</table>\n",
       "</div>"
      ],
      "text/plain": [
       "   Estresse    Hab_Fumar  Câncer  Hypothesis  Result\n",
       "0      24.0  Não Fumante     0.0           0       1\n",
       "1      26.0  Não Fumante     0.0           0       1\n",
       "2      30.0  Não Fumante     0.0           0       1\n",
       "3      31.0  Não Fumante     0.0           0       1\n",
       "4      36.0  Não Fumante     0.0           0       1"
      ]
     },
     "execution_count": 13,
     "metadata": {},
     "output_type": "execute_result"
    }
   ],
   "source": [
    "dfteste.head()"
   ]
  },
  {
   "cell_type": "code",
   "execution_count": 14,
   "metadata": {},
   "outputs": [
    {
     "data": {
      "text/plain": [
       "True"
      ]
     },
     "execution_count": 14,
     "metadata": {},
     "output_type": "execute_result"
    }
   ],
   "source": [
    "observation = np.array([[33,6],[8,23]])\n",
    "stats.chi2_contingency(observation,correction =False)[1] < 0.05"
   ]
  },
  {
   "cell_type": "markdown",
   "metadata": {},
   "source": [
    "Teste de qui-quadrado resultou menor que 0.05 então sabemos que hab fumar tem influncia sobre a pessoa ter cancer ou não \n",
    "\n",
    "\n",
    "Vamos plotar um grafico e ver como é a distruição dos niveis de estresse entre as pessoas com cancer ou sem cancer\n",
    "\n",
    "Como podemos ver abaixo os niveis de estresse são bem distribuidos entre as pessoas com cancer\n"
   ]
  },
  {
   "cell_type": "code",
   "execution_count": 15,
   "metadata": {},
   "outputs": [
    {
     "data": {
      "text/plain": [
       "(array([3., 4., 2., 5., 5., 2., 5., 4., 3., 6.]),\n",
       " array([24. , 29.9, 35.8, 41.7, 47.6, 53.5, 59.4, 65.3, 71.2, 77.1, 83. ]),\n",
       " <a list of 10 Patch objects>)"
      ]
     },
     "execution_count": 15,
     "metadata": {},
     "output_type": "execute_result"
    },
    {
     "data": {
      "image/png": "[encoded data removed]",
      "text/plain": [
       "<Figure size 432x288 with 1 Axes>"
      ]
     },
     "metadata": {
      "needs_background": "light"
     },
     "output_type": "display_data"
    }
   ],
   "source": [
    "plt.hist(df.Estresse[df['Câncer'] == 1],color='green')"
   ]
  },
  {
   "cell_type": "markdown",
   "metadata": {},
   "source": [
    "Também é possivel notar que a maior parte das pessoas que não tem cancer tem seus nivels de estresse abaixo de 50%"
   ]
  },
  {
   "cell_type": "code",
   "execution_count": 16,
   "metadata": {},
   "outputs": [
    {
     "name": "stdout",
     "output_type": "stream",
     "text": [
      "Pessoas com nivel de estresse abaixo de 55%(sem cancer) 64.28571428571429 %\n",
      "Pessoas com nivel de estresse acima de 55%(sem cancer) 35.714285714285715 %\n"
     ]
    }
   ],
   "source": [
    "metademenos = []\n",
    "metademais = []\n",
    "for i in range(len(df['Estresse'])):\n",
    "    if df['Estresse'][i] < 55:\n",
    "        metademenos.append(1)\n",
    "    else:\n",
    "        metademais.append(1)\n",
    "        \n",
    "print(\"Pessoas com nivel de estresse abaixo de 55%(sem cancer)\",sum(metademenos)/(sum(metademenos)+sum(metademais))*100,\"%\")\n",
    "\n",
    "print(\"Pessoas com nivel de estresse acima de 55%(sem cancer)\",sum(metademais)/(sum(metademenos)+sum(metademais))*100,'%')"
   ]
  },
  {
   "cell_type": "code",
   "execution_count": 17,
   "metadata": {},
   "outputs": [
    {
     "data": {
      "text/plain": [
       "(array([6., 8., 6., 4., 1., 1., 0., 3., 0., 2.]),\n",
       " array([24., 29., 34., 39., 44., 49., 54., 59., 64., 69., 74.]),\n",
       " <a list of 10 Patch objects>)"
      ]
     },
     "execution_count": 17,
     "metadata": {},
     "output_type": "execute_result"
    },
    {
     "data": {
      "image/png": "[encoded data removed]",
      "text/plain": [
       "<Figure size 432x288 with 1 Axes>"
      ]
     },
     "metadata": {
      "needs_background": "light"
     },
     "output_type": "display_data"
    }
   ],
   "source": [
    "plt.hist(df.Estresse[df['Câncer'] == 0],color='gray')"
   ]
  },
  {
   "cell_type": "markdown",
   "metadata": {},
   "source": [
    "Vamos tentar encontrar as pessoas não fumantes com alto nivel de estresse. Sendo alto nivel de estresse acima de 80 pois em nosso dataset não houve ocorrencia de pessoas sem cancer com nivel de estresse acima de 80."
   ]
  },
  {
   "cell_type": "code",
   "execution_count": 18,
   "metadata": {},
   "outputs": [
    {
     "data": {
      "text/plain": [
       "<matplotlib.axes._subplots.AxesSubplot at 0x7f889e752a50>"
      ]
     },
     "execution_count": 18,
     "metadata": {},
     "output_type": "execute_result"
    },
    {
     "data": {
      "image/png": "[encoded data removed]",
      "text/plain": [
       "<Figure size 432x288 with 1 Axes>"
      ]
     },
     "metadata": {
      "needs_background": "light"
     },
     "output_type": "display_data"
    }
   ],
   "source": [
    "sns.scatterplot(df['Câncer'],df['Estresse'])"
   ]
  },
  {
   "cell_type": "code",
   "execution_count": 19,
   "metadata": {},
   "outputs": [
    {
     "name": "stdout",
     "output_type": "stream",
     "text": [
      "Pessoas sem cancer com qualquer nivel de estresse 44.285714285714285 %\n",
      "Pessoas com cancer com qualquer nivel de estresse  55.714285714285715 %\n"
     ]
    }
   ],
   "source": [
    "anylevelnocancer = df.Estresse[df['Câncer'] == 0].value_counts().sum()\n",
    "anylevelcancer = df.Estresse[df['Câncer'] == 1].value_counts().sum()\n",
    "print(\"Pessoas sem cancer com qualquer nivel de estresse\",(anylevelnocancer/70)*100,'%')\n",
    "print(\"Pessoas com cancer com qualquer nivel de estresse \",(anylevelcancer/70)*100, '%' )\n",
    "\n",
    "\n"
   ]
  },
  {
   "cell_type": "code",
   "execution_count": 21,
   "metadata": {},
   "outputs": [
    {
     "ename": "SyntaxError",
     "evalue": "invalid syntax (<ipython-input-21-72c298b24329>, line 1)",
     "output_type": "error",
     "traceback": [
      "\u001b[0;36m  File \u001b[0;32m\"<ipython-input-21-72c298b24329>\"\u001b[0;36m, line \u001b[0;32m1\u001b[0m\n\u001b[0;31m    mesmo que para qualquer nivel de estresse temos quase uma igualidade, podemos filtrar p\u001b[0m\n\u001b[0m            ^\u001b[0m\n\u001b[0;31mSyntaxError\u001b[0m\u001b[0;31m:\u001b[0m invalid syntax\n"
     ]
    }
   ],
   "source": [
    "mesmo que para qualquer nivel de estresse temos quase uma igualidade, podemos filtrar p"
   ]
  },
  {
   "cell_type": "code",
   "execution_count": 23,
   "metadata": {},
   "outputs": [
    {
     "name": "stderr",
     "output_type": "stream",
     "text": [
      "/home/hironu/anaconda3/lib/python3.7/site-packages/ipykernel_launcher.py:7: SettingWithCopyWarning: \n",
      "A value is trying to be set on a copy of a slice from a DataFrame\n",
      "\n",
      "See the caveats in the documentation: https://pandas.pydata.org/pandas-docs/stable/user_guide/indexing.html#returning-a-view-versus-a-copy\n",
      "  import sys\n",
      "/home/hironu/anaconda3/lib/python3.7/site-packages/ipykernel_launcher.py:5: SettingWithCopyWarning: \n",
      "A value is trying to be set on a copy of a slice from a DataFrame\n",
      "\n",
      "See the caveats in the documentation: https://pandas.pydata.org/pandas-docs/stable/user_guide/indexing.html#returning-a-view-versus-a-copy\n",
      "  \"\"\"\n"
     ]
    },
    {
     "data": {
      "text/plain": [
       "<matplotlib.axes._subplots.AxesSubplot at 0x7f889e6ca5d0>"
      ]
     },
     "execution_count": 23,
     "metadata": {},
     "output_type": "execute_result"
    },
    {
     "data": {
      "image/png": "[encoded data removed]",
      "text/plain": [
       "<Figure size 432x288 with 1 Axes>"
      ]
     },
     "metadata": {
      "needs_background": "light"
     },
     "output_type": "display_data"
    }
   ],
   "source": [
    "\n",
    "\n",
    "df['muitoEstresse'] = df['Estresse']\n",
    "\n",
    "for i in range(len(df['Estresse'])):\n",
    "    if df['Estresse'][i] > 70.0:\n",
    "        df['muitoEstresse'][i] = 1\n",
    "    else:\n",
    "        df['muitoEstresse'][i] = 0\n",
    "\n",
    "sns.scatterplot(df['Câncer'],df['Estresse'],hue=df['muitoEstresse'])        "
   ]
  },
  {
   "cell_type": "markdown",
   "metadata": {},
   "source": [
    "# Fumante + Auto Estresse\n",
    "\n"
   ]
  },
  {
   "cell_type": "code",
   "execution_count": 27,
   "metadata": {},
   "outputs": [
    {
     "name": "stdout",
     "output_type": "stream",
     "text": [
      "1    0.8\n",
      "0    0.2\n",
      "Name: Result, dtype: float64\n"
     ]
    }
   ],
   "source": [
    "dfhip2 = pd.read_csv('BancodeDados13.csv')\n",
    "\n",
    "dfhip2['muitoEstresse'] = dfhip2['Estresse']\n",
    "\n",
    "for i in range(len(dfhip2['Estresse'])):\n",
    "    if dfhip2['Estresse'][i] > 80.0:\n",
    "        dfhip2['muitoEstresse'][i] = 1\n",
    "    else:\n",
    "        dfhip2['muitoEstresse'][i] = 0\n",
    "\n",
    "\n",
    "dfhip2[\"Hypothesis\"] = 0\n",
    "dfhip2.loc[dfhip2.Hab_Fumar == 1.0,\"Hypothesis\"] = 1\n",
    "\n",
    "dfhip2['Result'] = 0\n",
    "dfhip2.loc[dfhip2.Câncer == dfhip2[\"Hypothesis\"],\"Result\"] = 1\n",
    "\n",
    "print(dfhip2['Result'].value_counts(normalize=True))\n"
   ]
  },
  {
   "cell_type": "code",
   "execution_count": 26,
   "metadata": {},
   "outputs": [
    {
     "data": {
      "text/html": [
       "<div>\n",
       "<style scoped>\n",
       "    .dataframe tbody tr th:only-of-type {\n",
       "        vertical-align: middle;\n",
       "    }\n",
       "\n",
       "    .dataframe tbody tr th {\n",
       "        vertical-align: top;\n",
       "    }\n",
       "\n",
       "    .dataframe thead th {\n",
       "        text-align: right;\n",
       "    }\n",
       "</style>\n",
       "<table border=\"1\" class=\"dataframe\">\n",
       "  <thead>\n",
       "    <tr style=\"text-align: right;\">\n",
       "      <th></th>\n",
       "      <th>Estresse</th>\n",
       "      <th>Hab_Fumar</th>\n",
       "      <th>Câncer</th>\n",
       "      <th>Hypothesis</th>\n",
       "      <th>Result</th>\n",
       "      <th>muitoEstresse</th>\n",
       "    </tr>\n",
       "  </thead>\n",
       "  <tbody>\n",
       "    <tr>\n",
       "      <th>0</th>\n",
       "      <td>24.0</td>\n",
       "      <td>Não Fumante</td>\n",
       "      <td>0.0</td>\n",
       "      <td>0</td>\n",
       "      <td>1</td>\n",
       "      <td>0.0</td>\n",
       "    </tr>\n",
       "    <tr>\n",
       "      <th>1</th>\n",
       "      <td>26.0</td>\n",
       "      <td>Não Fumante</td>\n",
       "      <td>0.0</td>\n",
       "      <td>0</td>\n",
       "      <td>1</td>\n",
       "      <td>0.0</td>\n",
       "    </tr>\n",
       "    <tr>\n",
       "      <th>2</th>\n",
       "      <td>30.0</td>\n",
       "      <td>Não Fumante</td>\n",
       "      <td>0.0</td>\n",
       "      <td>0</td>\n",
       "      <td>1</td>\n",
       "      <td>0.0</td>\n",
       "    </tr>\n",
       "    <tr>\n",
       "      <th>3</th>\n",
       "      <td>31.0</td>\n",
       "      <td>Não Fumante</td>\n",
       "      <td>0.0</td>\n",
       "      <td>0</td>\n",
       "      <td>1</td>\n",
       "      <td>0.0</td>\n",
       "    </tr>\n",
       "    <tr>\n",
       "      <th>4</th>\n",
       "      <td>36.0</td>\n",
       "      <td>Não Fumante</td>\n",
       "      <td>0.0</td>\n",
       "      <td>0</td>\n",
       "      <td>1</td>\n",
       "      <td>0.0</td>\n",
       "    </tr>\n",
       "  </tbody>\n",
       "</table>\n",
       "</div>"
      ],
      "text/plain": [
       "   Estresse    Hab_Fumar  Câncer  Hypothesis  Result  muitoEstresse\n",
       "0      24.0  Não Fumante     0.0           0       1            0.0\n",
       "1      26.0  Não Fumante     0.0           0       1            0.0\n",
       "2      30.0  Não Fumante     0.0           0       1            0.0\n",
       "3      31.0  Não Fumante     0.0           0       1            0.0\n",
       "4      36.0  Não Fumante     0.0           0       1            0.0"
      ]
     },
     "execution_count": 26,
     "metadata": {},
     "output_type": "execute_result"
    }
   ],
   "source": [
    "dfhip2.head()"
   ]
  },
  {
   "cell_type": "code",
   "execution_count": null,
   "metadata": {},
   "outputs": [],
   "source": []
  }
 ],
 "metadata": {
  "kernelspec": {
   "display_name": "Python 3",
   "language": "python",
   "name": "python3"
  },
  "language_info": {
   "codemirror_mode": {
    "name": "ipython",
    "version": 3
   },
   "file_extension": ".py",
   "mimetype": "text/x-python",
   "name": "python",
   "nbconvert_exporter": "python",
   "pygments_lexer": "ipython3",
   "version": "3.7.4"
  }
 },
 "nbformat": 4,
 "nbformat_minor": 2
}
