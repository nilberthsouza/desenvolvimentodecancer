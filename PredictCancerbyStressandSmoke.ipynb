{
  "nbformat": 4,
  "nbformat_minor": 0,
  "metadata": {
    "kernelspec": {
      "display_name": "Python 3",
      "language": "python",
      "name": "python3"
    },
    "language_info": {
      "codemirror_mode": {
        "name": "ipython",
        "version": 3
      },
      "file_extension": ".py",
      "mimetype": "text/x-python",
      "name": "python",
      "nbconvert_exporter": "python",
      "pygments_lexer": "ipython3",
      "version": "3.7.4"
    },
    "colab": {
      "name": "PredictCancerbyStressandSmoke.ipynb",
      "provenance": []
    }
  },
  "cells": [
    {
      "cell_type": "markdown",
      "metadata": {
        "id": "M5tANMmow1sm",
        "colab_type": "text"
      },
      "source": [
        "# Fumar e Estresse: Fatores de predição para cancer? \n",
        "\n",
        "### Vamos verificar se o hábito de fumar e o nivel de estresse preveem o desenvolvimento de câncer. \n",
        "\n",
        "todo: verificar se não há outliers ,plotar graficos\n",
        "\n",
        "todo: verificar se há multicolinearidade\n",
        "https://etav.github.io/python/vif_factor_python.html\n",
        "\n",
        "statsmodels.stats.outliers_influence.variance_inflation_factor\n"
      ]
    },
    {
      "cell_type": "code",
      "metadata": {
        "id": "cv9d3Lwqw1sr",
        "colab_type": "code",
        "colab": {
          "base_uri": "https://localhost:8080/",
          "height": 71
        },
        "outputId": "497446dd-3f94-4b25-b4ca-9c1c1c06fbe8"
      },
      "source": [
        "import pandas as pd \n",
        "import numpy as np\n",
        "import matplotlib.pyplot as plt\n",
        "import seaborn as sns\n",
        "\n",
        "from scipy import stats \n",
        "\n",
        "from sklearn.linear_model import LogisticRegression\n",
        "from sklearn.model_selection import train_test_split\n",
        "\n",
        "from statsmodels.stats.outliers_influence import variance_inflation_factor\n",
        "from statsmodels.tools.tools import add_constant\n"
      ],
      "execution_count": 1,
      "outputs": [
        {
          "output_type": "stream",
          "text": [
            "/usr/local/lib/python3.6/dist-packages/statsmodels/tools/_testing.py:19: FutureWarning: pandas.util.testing is deprecated. Use the functions in the public API at pandas.testing instead.\n",
            "  import pandas.util.testing as tm\n"
          ],
          "name": "stderr"
        }
      ]
    },
    {
      "cell_type": "markdown",
      "metadata": {
        "id": "4kI_Vb1jw1tD",
        "colab_type": "text"
      },
      "source": [
        "Vamos começar importanto o dataset ```BancodeDados13.csv``` que foi adquirido nesse video do youtube e convertido de .sav para csv por esse script.\n",
        "Também vamos separar os dados entre as features que será um numpy array de 2 colunas e as labels que será um numpy array unidimensional."
      ]
    },
    {
      "cell_type": "code",
      "metadata": {
        "id": "pQ9bB5V9w1tH",
        "colab_type": "code",
        "colab": {}
      },
      "source": [
        "df = pd.read_csv('https://raw.githubusercontent.com/nilberthsouza/desenvolvimentodecancer/master/BancodeDados13.csv')\n"
      ],
      "execution_count": 0,
      "outputs": []
    },
    {
      "cell_type": "markdown",
      "metadata": {
        "id": "2yJZDT7Sw1ta",
        "colab_type": "text"
      },
      "source": [
        "Vamos analisar se a multicolinearidade atraves do VIF (variance inflation factor) , nesse caso queremos o valor para a variavel dependente cancer. tolerancia deve ser maior que 0.1 e vif deve ser menor que 10. Como VIF é 1/toleracia , para encontrar a tolerancia basta dividir 1 por VIF"
      ]
    },
    {
      "cell_type": "code",
      "metadata": {
        "id": "H0kNbNIYw1te",
        "colab_type": "code",
        "colab": {
          "base_uri": "https://localhost:8080/",
          "height": 102
        },
        "outputId": "4fc4d8d0-8998-4e7d-c679-2c4ce7a806b2"
      },
      "source": [
        "\n",
        "X = add_constant(df)\n",
        "pd.Series([variance_inflation_factor(X.values, i) for i in range(X.shape[1])],index=X.columns)"
      ],
      "execution_count": 4,
      "outputs": [
        {
          "output_type": "execute_result",
          "data": {
            "text/plain": [
              "const        8.549777\n",
              "Estresse     1.648013\n",
              "Hab_Fumar    1.962513\n",
              "Câncer       1.594647\n",
              "dtype: float64"
            ]
          },
          "metadata": {
            "tags": []
          },
          "execution_count": 4
        }
      ]
    },
    {
      "cell_type": "markdown",
      "metadata": {
        "id": "3nsnCkntw1tv",
        "colab_type": "text"
      },
      "source": [
        "Primeiro , eu quero testar como ficar a acertividade do modelo quando fazemos um modelo de regressão logistica usando tanto o habito de fumar (que graças as VIF e a tolerancia sabemos que exerce influencia se a pessoa pode ou não desenvolver cancer). Depois compararemos usando apenas um modelo que seleciona parametricamente "
      ]
    },
    {
      "cell_type": "markdown",
      "metadata": {
        "id": "35694I-rx_wK",
        "colab_type": "text"
      },
      "source": [
        "Abaixo separamamos o dataset em quatro usando o ```train_test_split``` para criar um dataframe de teste e um dataframe de treino e printamos o tamanho dos respectivos datasets"
      ]
    },
    {
      "cell_type": "code",
      "metadata": {
        "id": "IDbmX6Syw1ty",
        "colab_type": "code",
        "colab": {
          "base_uri": "https://localhost:8080/",
          "height": 34
        },
        "outputId": "c0025c96-3f67-438f-d44e-2ff75f2e28fa"
      },
      "source": [
        "\n",
        "X_train, X_test , y_train, y_test = train_test_split(df.drop(['Câncer'],axis=1),df['Câncer'],test_size=0.3, random_state=0)\n",
        "\n",
        "print(len(X_train),len(X_test),len(y_train),len(y_test))\n",
        "\n",
        "\n",
        "\n",
        "featureModelOne = X_train\n",
        "labelModelOne = y_train"
      ],
      "execution_count": 6,
      "outputs": [
        {
          "output_type": "stream",
          "text": [
            "49 21 49 21\n"
          ],
          "name": "stdout"
        }
      ]
    },
    {
      "cell_type": "markdown",
      "metadata": {
        "id": "hkaXByxlye-D",
        "colab_type": "text"
      },
      "source": [
        "Abaixo criamos um instacia de ```LogisticRegression``` e chamamos de model, passamos o parametros de treino e suas etiquetas"
      ]
    },
    {
      "cell_type": "code",
      "metadata": {
        "id": "cd_xobMRw1uB",
        "colab_type": "code",
        "colab": {
          "base_uri": "https://localhost:8080/",
          "height": 54
        },
        "outputId": "037fc1a6-6ffb-4092-fa56-827b5c0c92c3"
      },
      "source": [
        "model = LogisticRegression()\n",
        "model.fit(featureModelOne,labelModelOne)\n",
        "\n",
        "modelOnePredictions = model.predict(X_test)\n",
        "\n",
        "from sklearn.metrics import classification_report\n",
        "\n",
        "classification_report( y_test, modelOnePredictions)\n",
        "\n",
        "\n"
      ],
      "execution_count": 7,
      "outputs": [
        {
          "output_type": "execute_result",
          "data": {
            "text/plain": [
              "'              precision    recall  f1-score   support\\n\\n         0.0       0.71      0.71      0.71         7\\n         1.0       0.86      0.86      0.86        14\\n\\n    accuracy                           0.81        21\\n   macro avg       0.79      0.79      0.79        21\\nweighted avg       0.81      0.81      0.81        21\\n'"
            ]
          },
          "metadata": {
            "tags": []
          },
          "execution_count": 7
        }
      ]
    },
    {
      "cell_type": "code",
      "metadata": {
        "id": "Aa_i1GYuw1uS",
        "colab_type": "code",
        "colab": {
          "base_uri": "https://localhost:8080/",
          "height": 51
        },
        "outputId": "d9646205-9ebf-4d6e-d660-2b69d2f23cbb"
      },
      "source": [
        "from sklearn.metrics import confusion_matrix\n",
        "\n",
        "confusion_matrix(y_test,modelOnePredictions)"
      ],
      "execution_count": 8,
      "outputs": [
        {
          "output_type": "execute_result",
          "data": {
            "text/plain": [
              "array([[ 5,  2],\n",
              "       [ 2, 12]])"
            ]
          },
          "metadata": {
            "tags": []
          },
          "execution_count": 8
        }
      ]
    },
    {
      "cell_type": "markdown",
      "metadata": {
        "id": "PKbsOMjmy1aw",
        "colab_type": "text"
      },
      "source": [
        "É possivel usar ```accuracy_score``` pra checar qual a acuracia do modelo logistico"
      ]
    },
    {
      "cell_type": "code",
      "metadata": {
        "id": "oFqZO46Mw1uq",
        "colab_type": "code",
        "colab": {}
      },
      "source": [
        "from sklearn.metrics import accuracy_score\n",
        "\n",
        "accuracy_score(y_test,modelOnePredictions)"
      ],
      "execution_count": 0,
      "outputs": []
    },
    {
      "cell_type": "markdown",
      "metadata": {
        "id": "jnA62NDTw1u6",
        "colab_type": "text"
      },
      "source": [
        "# Contra Prova\n",
        "\n",
        "### Vamos usar apenas Hab_Fumar para tentar entender se o nivel de stress melhora ou piora nosso modelo\n",
        "\n"
      ]
    },
    {
      "cell_type": "code",
      "metadata": {
        "id": "7SYBmArkw1u9",
        "colab_type": "code",
        "colab": {},
        "outputId": "82deff4b-be3e-46a8-f341-4ee2b0ddccf6"
      },
      "source": [
        "df[\"Hypothesis\"] = 0\n",
        "df.loc[df.Hab_Fumar == 1.0,\"Hypothesis\"] = 1\n",
        "\n",
        "df['Result'] = 0\n",
        "df.loc[df.Câncer == df[\"Hypothesis\"],\"Result\"] = 1\n",
        "\n",
        "print(df['Result'].value_counts(normalize=True))\n"
      ],
      "execution_count": 0,
      "outputs": [
        {
          "output_type": "stream",
          "text": [
            "1    0.8\n",
            "0    0.2\n",
            "Name: Result, dtype: float64\n"
          ],
          "name": "stdout"
        }
      ]
    },
    {
      "cell_type": "code",
      "metadata": {
        "id": "4mXrUBIfw1vQ",
        "colab_type": "code",
        "colab": {},
        "outputId": "a269645e-7c80-423d-9b64-1143c1c9ed02"
      },
      "source": [
        "df.head()"
      ],
      "execution_count": 0,
      "outputs": [
        {
          "output_type": "execute_result",
          "data": {
            "text/html": [
              "<div>\n",
              "<style scoped>\n",
              "    .dataframe tbody tr th:only-of-type {\n",
              "        vertical-align: middle;\n",
              "    }\n",
              "\n",
              "    .dataframe tbody tr th {\n",
              "        vertical-align: top;\n",
              "    }\n",
              "\n",
              "    .dataframe thead th {\n",
              "        text-align: right;\n",
              "    }\n",
              "</style>\n",
              "<table border=\"1\" class=\"dataframe\">\n",
              "  <thead>\n",
              "    <tr style=\"text-align: right;\">\n",
              "      <th></th>\n",
              "      <th>Estresse</th>\n",
              "      <th>Hab_Fumar</th>\n",
              "      <th>Câncer</th>\n",
              "      <th>Hypothesis</th>\n",
              "      <th>Result</th>\n",
              "    </tr>\n",
              "  </thead>\n",
              "  <tbody>\n",
              "    <tr>\n",
              "      <th>0</th>\n",
              "      <td>24.0</td>\n",
              "      <td>0.0</td>\n",
              "      <td>0.0</td>\n",
              "      <td>0</td>\n",
              "      <td>1</td>\n",
              "    </tr>\n",
              "    <tr>\n",
              "      <th>1</th>\n",
              "      <td>26.0</td>\n",
              "      <td>0.0</td>\n",
              "      <td>0.0</td>\n",
              "      <td>0</td>\n",
              "      <td>1</td>\n",
              "    </tr>\n",
              "    <tr>\n",
              "      <th>2</th>\n",
              "      <td>30.0</td>\n",
              "      <td>0.0</td>\n",
              "      <td>0.0</td>\n",
              "      <td>0</td>\n",
              "      <td>1</td>\n",
              "    </tr>\n",
              "    <tr>\n",
              "      <th>3</th>\n",
              "      <td>31.0</td>\n",
              "      <td>0.0</td>\n",
              "      <td>0.0</td>\n",
              "      <td>0</td>\n",
              "      <td>1</td>\n",
              "    </tr>\n",
              "    <tr>\n",
              "      <th>4</th>\n",
              "      <td>36.0</td>\n",
              "      <td>0.0</td>\n",
              "      <td>0.0</td>\n",
              "      <td>0</td>\n",
              "      <td>1</td>\n",
              "    </tr>\n",
              "  </tbody>\n",
              "</table>\n",
              "</div>"
            ],
            "text/plain": [
              "   Estresse  Hab_Fumar  Câncer  Hypothesis  Result\n",
              "0      24.0        0.0     0.0           0       1\n",
              "1      26.0        0.0     0.0           0       1\n",
              "2      30.0        0.0     0.0           0       1\n",
              "3      31.0        0.0     0.0           0       1\n",
              "4      36.0        0.0     0.0           0       1"
            ]
          },
          "metadata": {
            "tags": []
          },
          "execution_count": 10
        }
      ]
    },
    {
      "cell_type": "code",
      "metadata": {
        "id": "6KzAX1NYw1vg",
        "colab_type": "code",
        "colab": {},
        "outputId": "52d1e8b4-3c06-461f-fb70-d07e4d71400a"
      },
      "source": [
        "df[\"Estresse\"].max()\n",
        "\n",
        "dfteste = df\n",
        "for i in range(len(df['Hab_Fumar'])):\n",
        "    if df['Hab_Fumar'][i] == 1:\n",
        "        dfteste['Hab_Fumar'][i] = 'Fumante'\n",
        "    else:\n",
        "        dfteste['Hab_Fumar'][i] = 'Não Fumante'"
      ],
      "execution_count": 0,
      "outputs": [
        {
          "output_type": "stream",
          "text": [
            "/home/hironu/anaconda3/lib/python3.7/site-packages/ipykernel_launcher.py:8: SettingWithCopyWarning: \n",
            "A value is trying to be set on a copy of a slice from a DataFrame\n",
            "\n",
            "See the caveats in the documentation: https://pandas.pydata.org/pandas-docs/stable/user_guide/indexing.html#returning-a-view-versus-a-copy\n",
            "  \n"
          ],
          "name": "stderr"
        }
      ]
    },
    {
      "cell_type": "code",
      "metadata": {
        "id": "90-DKUmhw1vx",
        "colab_type": "code",
        "colab": {},
        "outputId": "1fb5b991-d002-449a-8db9-89fb056ae607"
      },
      "source": [
        "dfteste.head()"
      ],
      "execution_count": 0,
      "outputs": [
        {
          "output_type": "execute_result",
          "data": {
            "text/html": [
              "<div>\n",
              "<style scoped>\n",
              "    .dataframe tbody tr th:only-of-type {\n",
              "        vertical-align: middle;\n",
              "    }\n",
              "\n",
              "    .dataframe tbody tr th {\n",
              "        vertical-align: top;\n",
              "    }\n",
              "\n",
              "    .dataframe thead th {\n",
              "        text-align: right;\n",
              "    }\n",
              "</style>\n",
              "<table border=\"1\" class=\"dataframe\">\n",
              "  <thead>\n",
              "    <tr style=\"text-align: right;\">\n",
              "      <th></th>\n",
              "      <th>Estresse</th>\n",
              "      <th>Hab_Fumar</th>\n",
              "      <th>Câncer</th>\n",
              "      <th>Hypothesis</th>\n",
              "      <th>Result</th>\n",
              "    </tr>\n",
              "  </thead>\n",
              "  <tbody>\n",
              "    <tr>\n",
              "      <th>0</th>\n",
              "      <td>24.0</td>\n",
              "      <td>Não Fumante</td>\n",
              "      <td>0.0</td>\n",
              "      <td>0</td>\n",
              "      <td>1</td>\n",
              "    </tr>\n",
              "    <tr>\n",
              "      <th>1</th>\n",
              "      <td>26.0</td>\n",
              "      <td>Não Fumante</td>\n",
              "      <td>0.0</td>\n",
              "      <td>0</td>\n",
              "      <td>1</td>\n",
              "    </tr>\n",
              "    <tr>\n",
              "      <th>2</th>\n",
              "      <td>30.0</td>\n",
              "      <td>Não Fumante</td>\n",
              "      <td>0.0</td>\n",
              "      <td>0</td>\n",
              "      <td>1</td>\n",
              "    </tr>\n",
              "    <tr>\n",
              "      <th>3</th>\n",
              "      <td>31.0</td>\n",
              "      <td>Não Fumante</td>\n",
              "      <td>0.0</td>\n",
              "      <td>0</td>\n",
              "      <td>1</td>\n",
              "    </tr>\n",
              "    <tr>\n",
              "      <th>4</th>\n",
              "      <td>36.0</td>\n",
              "      <td>Não Fumante</td>\n",
              "      <td>0.0</td>\n",
              "      <td>0</td>\n",
              "      <td>1</td>\n",
              "    </tr>\n",
              "  </tbody>\n",
              "</table>\n",
              "</div>"
            ],
            "text/plain": [
              "   Estresse    Hab_Fumar  Câncer  Hypothesis  Result\n",
              "0      24.0  Não Fumante     0.0           0       1\n",
              "1      26.0  Não Fumante     0.0           0       1\n",
              "2      30.0  Não Fumante     0.0           0       1\n",
              "3      31.0  Não Fumante     0.0           0       1\n",
              "4      36.0  Não Fumante     0.0           0       1"
            ]
          },
          "metadata": {
            "tags": []
          },
          "execution_count": 13
        }
      ]
    },
    {
      "cell_type": "code",
      "metadata": {
        "id": "GUNTpuulw1wE",
        "colab_type": "code",
        "colab": {
          "base_uri": "https://localhost:8080/",
          "height": 34
        },
        "outputId": "d5f1a806-4a4b-4aff-cf20-36b01df6fd5c"
      },
      "source": [
        "observation = np.array([[33,6],[8,23]])\n",
        "stats.chi2_contingency(observation,correction =False)[1] < 0.05"
      ],
      "execution_count": 9,
      "outputs": [
        {
          "output_type": "execute_result",
          "data": {
            "text/plain": [
              "True"
            ]
          },
          "metadata": {
            "tags": []
          },
          "execution_count": 9
        }
      ]
    },
    {
      "cell_type": "markdown",
      "metadata": {
        "id": "73Er_HpYw1wT",
        "colab_type": "text"
      },
      "source": [
        "Teste de qui-quadrado resultou menor que 0.05 então sabemos que hab fumar tem influncia sobre a pessoa ter cancer ou não \n",
        "\n",
        "\n",
        "Vamos plotar um grafico e ver como é a distruição dos niveis de estresse entre as pessoas com cancer ou sem cancer\n",
        "\n",
        "Como podemos ver abaixo os niveis de estresse são bem distribuidos entre as pessoas com cancer\n"
      ]
    },
    {
      "cell_type": "code",
      "metadata": {
        "id": "QBk2u1oPw1wW",
        "colab_type": "code",
        "colab": {
          "base_uri": "https://localhost:8080/",
          "height": 316
        },
        "outputId": "5f6b08be-1321-4c7e-f991-344c39e9fbe2"
      },
      "source": [
        "plt.hist(df.Estresse[df['Câncer'] == 1],color='green')"
      ],
      "execution_count": 10,
      "outputs": [
        {
          "output_type": "execute_result",
          "data": {
            "text/plain": [
              "(array([3., 4., 2., 5., 5., 2., 5., 4., 3., 6.]),\n",
              " array([24. , 29.9, 35.8, 41.7, 47.6, 53.5, 59.4, 65.3, 71.2, 77.1, 83. ]),\n",
              " <a list of 10 Patch objects>)"
            ]
          },
          "metadata": {
            "tags": []
          },
          "execution_count": 10
        },
        {
          "output_type": "display_data",
          "data": {
            "image/png": "[encoded data removed]",
            "text/plain": [
              "<Figure size 432x288 with 1 Axes>"
            ]
          },
          "metadata": {
            "tags": [],
            "needs_background": "light"
          }
        }
      ]
    },
    {
      "cell_type": "markdown",
      "metadata": {
        "id": "UaMRYeeWw1wl",
        "colab_type": "text"
      },
      "source": [
        "Também é possivel notar que a maior parte das pessoas que não tem cancer tem seus nivels de estresse abaixo de 50%"
      ]
    },
    {
      "cell_type": "code",
      "metadata": {
        "id": "Tktbzsutw1wn",
        "colab_type": "code",
        "colab": {
          "base_uri": "https://localhost:8080/",
          "height": 51
        },
        "outputId": "896e4118-e09f-4a4b-e4a5-a56b9bc01806"
      },
      "source": [
        "metademenos = []\n",
        "metademais = []\n",
        "for i in range(len(df['Estresse'])):\n",
        "    if df['Estresse'][i] < 55:\n",
        "        metademenos.append(1)\n",
        "    else:\n",
        "        metademais.append(1)\n",
        "        \n",
        "print(\"Pessoas com nivel de estresse abaixo de 55%(sem cancer)\",sum(metademenos)/(sum(metademenos)+sum(metademais))*100,\"%\")\n",
        "\n",
        "print(\"Pessoas com nivel de estresse acima de 55%(sem cancer)\",sum(metademais)/(sum(metademenos)+sum(metademais))*100,'%')"
      ],
      "execution_count": 11,
      "outputs": [
        {
          "output_type": "stream",
          "text": [
            "Pessoas com nivel de estresse abaixo de 55%(sem cancer) 64.28571428571429 %\n",
            "Pessoas com nivel de estresse acima de 55%(sem cancer) 35.714285714285715 %\n"
          ],
          "name": "stdout"
        }
      ]
    },
    {
      "cell_type": "code",
      "metadata": {
        "id": "EGxr5SpMw1w3",
        "colab_type": "code",
        "colab": {
          "base_uri": "https://localhost:8080/",
          "height": 316
        },
        "outputId": "4e537a4c-af03-4239-818f-fa61cfc09c4b"
      },
      "source": [
        "plt.hist(df.Estresse[df['Câncer'] == 0],color='gray')"
      ],
      "execution_count": 12,
      "outputs": [
        {
          "output_type": "execute_result",
          "data": {
            "text/plain": [
              "(array([6., 8., 6., 4., 1., 1., 0., 3., 0., 2.]),\n",
              " array([24., 29., 34., 39., 44., 49., 54., 59., 64., 69., 74.]),\n",
              " <a list of 10 Patch objects>)"
            ]
          },
          "metadata": {
            "tags": []
          },
          "execution_count": 12
        },
        {
          "output_type": "display_data",
          "data": {
            "image/png": "[encoded data removed]",
            "text/plain": [
              "<Figure size 432x288 with 1 Axes>"
            ]
          },
          "metadata": {
            "tags": [],
            "needs_background": "light"
          }
        }
      ]
    },
    {
      "cell_type": "markdown",
      "metadata": {
        "id": "lKLzPAT4w1xK",
        "colab_type": "text"
      },
      "source": [
        "Vamos tentar encontrar as pessoas não fumantes com alto nivel de estresse. Sendo alto nivel de estresse acima de 80 pois em nosso dataset não houve ocorrencia de pessoas sem cancer com nivel de estresse acima de 80."
      ]
    },
    {
      "cell_type": "code",
      "metadata": {
        "id": "vupkLKyMw1xO",
        "colab_type": "code",
        "colab": {
          "base_uri": "https://localhost:8080/",
          "height": 296
        },
        "outputId": "fcdd8044-dfd6-4e8b-a762-d7cfd76425ee"
      },
      "source": [
        "sns.scatterplot(df['Câncer'],df['Estresse'])"
      ],
      "execution_count": 13,
      "outputs": [
        {
          "output_type": "execute_result",
          "data": {
            "text/plain": [
              "<matplotlib.axes._subplots.AxesSubplot at 0x7f74bfda0da0>"
            ]
          },
          "metadata": {
            "tags": []
          },
          "execution_count": 13
        },
        {
          "output_type": "display_data",
          "data": {
            "image/png": "[encoded data removed]",
            "text/plain": [
              "<Figure size 432x288 with 1 Axes>"
            ]
          },
          "metadata": {
            "tags": [],
            "needs_background": "light"
          }
        }
      ]
    },
    {
      "cell_type": "code",
      "metadata": {
        "id": "lidtpUK9w1xh",
        "colab_type": "code",
        "colab": {
          "base_uri": "https://localhost:8080/",
          "height": 51
        },
        "outputId": "a1ab9134-8c6a-4c62-d389-5c922ddaabdf"
      },
      "source": [
        "anylevelnocancer = df.Estresse[df['Câncer'] == 0].value_counts().sum()\n",
        "anylevelcancer = df.Estresse[df['Câncer'] == 1].value_counts().sum()\n",
        "print(\"Pessoas sem cancer com qualquer nivel de estresse\",(anylevelnocancer/70)*100,'%')\n",
        "print(\"Pessoas com cancer com qualquer nivel de estresse \",(anylevelcancer/70)*100, '%' )\n",
        "\n",
        "\n"
      ],
      "execution_count": 14,
      "outputs": [
        {
          "output_type": "stream",
          "text": [
            "Pessoas sem cancer com qualquer nivel de estresse 44.285714285714285 %\n",
            "Pessoas com cancer com qualquer nivel de estresse  55.714285714285715 %\n"
          ],
          "name": "stdout"
        }
      ]
    },
    {
      "cell_type": "code",
      "metadata": {
        "id": "DskAZmn3w1x6",
        "colab_type": "code",
        "colab": {
          "base_uri": "https://localhost:8080/",
          "height": 296
        },
        "outputId": "8943105f-8ed2-4ba7-8efd-81fa8cb500d1"
      },
      "source": [
        "\n",
        "\n",
        "df['muitoEstresse'] = df['Estresse']\n",
        "\n",
        "for i in range(len(df['Estresse'])):\n",
        "    if df['Estresse'][i] > 80.0:\n",
        "        df['muitoEstresse'][i] = 1\n",
        "    else:\n",
        "        df['muitoEstresse'][i] = 0\n",
        "\n",
        "sns.scatterplot(df['Câncer'],df['Estresse'],hue=df['muitoEstresse'])        "
      ],
      "execution_count": 18,
      "outputs": [
        {
          "output_type": "execute_result",
          "data": {
            "text/plain": [
              "<matplotlib.axes._subplots.AxesSubplot at 0x7f74bcf86e80>"
            ]
          },
          "metadata": {
            "tags": []
          },
          "execution_count": 18
        },
        {
          "output_type": "display_data",
          "data": {
            "image/png": "[encoded data removed]",
            "text/plain": [
              "<Figure size 432x288 with 1 Axes>"
            ]
          },
          "metadata": {
            "tags": [],
            "needs_background": "light"
          }
        }
      ]
    },
    {
      "cell_type": "markdown",
      "metadata": {
        "id": "yYSERGTew1yG",
        "colab_type": "text"
      },
      "source": [
        "# Fumante + Auto Estresse\n",
        "\n"
      ]
    },
    {
      "cell_type": "code",
      "metadata": {
        "id": "6sTSS_drw1yI",
        "colab_type": "code",
        "colab": {
          "base_uri": "https://localhost:8080/",
          "height": 85
        },
        "outputId": "a2552a98-6c15-4a22-bbbf-ed1a23910eb6"
      },
      "source": [
        "dfhip2 = pd.read_csv('https://raw.githubusercontent.com/nilberthsouza/desenvolvimentodecancer/master/BancodeDados13.csv')\n",
        "\n",
        "dfhip2['muitoEstresse'] = dfhip2['Estresse']\n",
        "\n",
        "for i in range(len(dfhip2['Estresse'])):\n",
        "    if dfhip2['Estresse'][i] > 80.0:\n",
        "        dfhip2['muitoEstresse'][i] = 1\n",
        "    else:\n",
        "        dfhip2['muitoEstresse'][i] = 0\n",
        "\n",
        "\n",
        "dfhip2[\"Hypothesis\"] = 0\n",
        "dfhip2.loc[dfhip2.Hab_Fumar == 1.0,\"Hypothesis\"] = 1\n",
        "\n",
        "dfhip2['Result'] = 0\n",
        "dfhip2.loc[dfhip2.Câncer == dfhip2[\"Hypothesis\"],\"Result\"] = 1\n",
        "\n",
        "print(dfhip2['Result'].value_counts())\n",
        "\n",
        "print(56/(56+14))\n"
      ],
      "execution_count": 22,
      "outputs": [
        {
          "output_type": "stream",
          "text": [
            "1    56\n",
            "0    14\n",
            "Name: Result, dtype: int64\n",
            "0.8\n"
          ],
          "name": "stdout"
        }
      ]
    },
    {
      "cell_type": "code",
      "metadata": {
        "id": "SsWhaSxlw1yi",
        "colab_type": "code",
        "colab": {}
      },
      "source": [
        ""
      ],
      "execution_count": 0,
      "outputs": []
    }
  ]
}